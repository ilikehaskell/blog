{
 "cells": [
  {
   "cell_type": "markdown",
   "source": [
    "# Friendly Python Clojures in an automatic Text Annotator"
   ],
   "metadata": {}
  },
  {
   "cell_type": "markdown",
   "source": [
    "While creating some pipelines for automatic text annotation, I encountered a bug that made me realise that I didn't really get the gist of a basic block of programming.\n",
    "\n",
    "It's closures. They're there thanks to your language having first-class functions and you may have encountered them in academia or some programming tutorial, even used them in some toy examples. I know I had. Closures in a sandbox are straight forward. Still, you may not know their power until you'd seen them in the wild.\n",
    "\n",
    "In Python at least, you won't need to know closures to solve most simple business problems. But once a more sofisticated system is in place and you won't want to change parts of the system (in many chases it's not practical due to the parts being held in out-of-your-control packages), sometimes a closure comes in handy for providig data encapsulation, feels idiomatic and will reduce the mental overload you'd have to deal with when using a more complex structure, such as a class.\n",
    "\n",
    "\n",
    "Still here? Then I'll reconstruct some [SpaCy](https://spacy.io/) and [skweak](https://github.com/NorskRegnesentral/skweak) functionalities for you so you'll better understant when to use these closures."
   ],
   "metadata": {}
  },
  {
   "cell_type": "markdown",
   "source": [
    "## SpaCy objects\n",
    "\n",
    "[SpaCy](https://spacy.io/) is here for you to help you build easy NLP pypelines.\n",
    "Central to this package are the `Doc` objects (short for document). It's a neatly way to pack data for NLP and if it doesn't provide what you need out of the box, you can [always extend it's functionalities](https://spacy.io/usage/processing-pipelines#custom-components-attributes) to match your usecase."
   ],
   "metadata": {}
  },
  {
   "cell_type": "code",
   "execution_count": 1,
   "source": [
    "from typing import Callable, Generator, Iterable, List\n",
    "\n",
    "class Doc:\n",
    "    def __init__(self, text) -> None:\n",
    "        self.text = text\n",
    "        self.tokens: List[str] = text.split()\n",
    "        self.spans: Span = []\n",
    "    def __len__(self):\n",
    "        return len(self.tokens)\n",
    "    def __getitem__(self, position):\n",
    "        return self.tokens[position]"
   ],
   "outputs": [],
   "metadata": {}
  },
  {
   "cell_type": "markdown",
   "source": [
    "By implementing `__len__` and `__getitem__` [double-under functions](https://www.geeksforgeeks.org/dunder-magic-methods-python/) we got the ability to iterate through the Doc's tokens with a simple for as below. This is thanks to the Python datamodel. It's outside the scope of this post, but learning to leverage the datamodel will pay dividends on your effectiveness in Python. The first chapter of [Fluent Python](https://learning.oreilly.com/library/view/fluent-python/9781491946237/) introduces it in the first chapter in a very neat way. If you like video format more, [James Powell](https://www.youtube.com/watch?v=AmHE0kZhLIQ) got you covered."
   ],
   "metadata": {}
  },
  {
   "cell_type": "code",
   "execution_count": 2,
   "source": [
    "doc = Doc(\"Today I ate garbonzo beans\")\n",
    "for token in doc:\n",
    "    print(token)"
   ],
   "outputs": [
    {
     "output_type": "stream",
     "name": "stdout",
     "text": [
      "Today\n",
      "I\n",
      "ate\n",
      "garbonzo\n",
      "beans\n"
     ]
    }
   ],
   "metadata": {}
  },
  {
   "cell_type": "markdown",
   "source": [
    "A `Span` is a slice of a `Doc`. Usually it can.. span multiple tokens, but today I have a feeling that all the spans we'll look at will match exactly one token. Also, in our case the spans will be always labeled."
   ],
   "metadata": {}
  },
  {
   "cell_type": "code",
   "execution_count": 3,
   "source": [
    "from typing import NamedTuple\n",
    "\n",
    "class Span(NamedTuple):\n",
    "    position: int\n",
    "    label: str\n"
   ],
   "outputs": [],
   "metadata": {}
  },
  {
   "cell_type": "markdown",
   "source": [
    "# skweak functions\n",
    "If you haven't looked at the [skweak repo](https://github.com/NorskRegnesentral/skweak) yet, it suffices to know that it provides a neat way of composing simple annotators to get a better one.\n",
    "Now, skweak provides us with some very interesting classes. One is a `FunctionAnnotator`. This takes a function that returns a list of spans from a document and attaches these spans to the given document. "
   ],
   "metadata": {}
  },
  {
   "cell_type": "code",
   "execution_count": 4,
   "source": [
    "class FunctionAnnotator:\n",
    "    \"\"\"Annotation based on a heuristic function that generates (start,end,label)\n",
    "    given a spacy document\"\"\"\n",
    "    def __init__(self, function: Callable[[Doc], Iterable[Span]]):\n",
    "        self.find_spans = function\n",
    "\t\t\n",
    "    def __call__(self, doc: Doc) -> Doc:\n",
    "        # We start by clearing all existing annotations\n",
    "        doc.spans = []\n",
    "\n",
    "        for position, label in self.find_spans(doc):\n",
    "            doc.spans.append(Span(position, label))\n",
    "\n",
    "        return doc"
   ],
   "outputs": [],
   "metadata": {}
  },
  {
   "cell_type": "markdown",
   "source": [
    "Let's see a simple labeling function we may use"
   ],
   "metadata": {}
  },
  {
   "cell_type": "code",
   "execution_count": 5,
   "source": [
    "def animal_labeling_function(doc: Doc) -> Generator[Span, None, None]:\n",
    "    for position, token in enumerate(doc.tokens):\n",
    "        if token.startswith('a'):\n",
    "            yield Span(position, 'ANIMAL')\n",
    "\n",
    "doc = Doc('this animal is some kind of antilope')\n",
    "animal_annotator = FunctionAnnotator(animal_labeling_function)\n",
    "doc = animal_annotator(doc)\n",
    "\n",
    "print(doc.spans)"
   ],
   "outputs": [
    {
     "output_type": "stream",
     "name": "stdout",
     "text": [
      "[Span(position=1, label='ANIMAL'), Span(position=6, label='ANIMAL')]\n"
     ]
    }
   ],
   "metadata": {}
  },
  {
   "cell_type": "markdown",
   "source": [
    "The `FunctionAnnotatorAggregator` takes multiple annotator functions and combines them in some fancy way. We won't do it justice with the implementation below.\n",
    "We'll just make it force our documents to have a maximum of one label per span. We will also sort them by the order of appearance."
   ],
   "metadata": {}
  },
  {
   "cell_type": "code",
   "execution_count": 6,
   "source": [
    "class FunctionAnnotatorAggregator:\n",
    "    \"\"\"Base aggregator to combine all labelling sources into a single annotation layer\"\"\"\n",
    "    def __init__(self, annotators: Iterable[FunctionAnnotator]) -> None:\n",
    "        self.annotators = annotators\n",
    "    \n",
    "    def __call__(self, doc: Doc) -> Doc:\n",
    "        spans_dict = dict()\n",
    "        for annotator in self.annotators:\n",
    "            for span in annotator(doc).spans:\n",
    "                spans_dict[span.position] = span.label\n",
    "        \n",
    "        \n",
    "        doc.spans = []\n",
    "        for position, label in spans_dict.items():\n",
    "            doc.spans.append(Span(position, label))\n",
    "        doc.spans.sort()\n",
    "        \n",
    "        return doc"
   ],
   "outputs": [],
   "metadata": {}
  },
  {
   "cell_type": "code",
   "execution_count": 7,
   "source": [
    "def verb_labeling_function(doc: Doc) -> Generator[Span, None, None]:\n",
    "    for position, token in enumerate(doc.tokens):\n",
    "        if token in ['is', 'has']:\n",
    "            yield Span(position, 'VERB')\n",
    "\n",
    "verb_annotator = FunctionAnnotator(verb_labeling_function)\n",
    "\n",
    "aggregated_annotator = FunctionAnnotatorAggregator([animal_annotator, verb_annotator])\n",
    "\n",
    "doc = aggregated_annotator(doc)\n",
    "\n",
    "print(doc.spans)\n"
   ],
   "outputs": [
    {
     "output_type": "stream",
     "name": "stdout",
     "text": [
      "[Span(position=1, label='ANIMAL'), Span(position=2, label='VERB'), Span(position=6, label='ANIMAL')]\n"
     ]
    }
   ],
   "metadata": {}
  },
  {
   "cell_type": "markdown",
   "source": [
    "# The problem\n",
    "\n",
    "All nice and dandy, the packages are well implemented and work as expected! \n",
    "Now, since the aggregator is so fancy, we may wish to programatically generate some labeling functions from a list of excellent heuristic parameters\n",
    "<a id='problem_cell'></a>"
   ],
   "metadata": {}
  },
  {
   "cell_type": "code",
   "execution_count": 8,
   "source": [
    "heuristic_parameters = [\n",
    "    ('M', 'MAMMAL'),\n",
    "    ('F', 'FISH'),\n",
    "    ('B', 'BIRD')\n",
    "    ]\n",
    "\n",
    "labeling_functions = []\n",
    "for strats_with, label in heuristic_parameters:\n",
    "    def labeling_function(doc: Doc) -> Generator[Span, None, None]:\n",
    "        for position, word in enumerate(doc.tokens):\n",
    "            if word.startswith(strats_with):\n",
    "                yield Span(position, label)\n",
    "    labeling_functions += [labeling_function]\n",
    "\n",
    "strats_with, label = 'B', 'BOVINE'\n"
   ],
   "outputs": [],
   "metadata": {}
  },
  {
   "cell_type": "markdown",
   "source": [
    "<a id='problem_cell_2'></a>"
   ],
   "metadata": {}
  },
  {
   "cell_type": "code",
   "execution_count": 9,
   "source": [
    "doc = Doc(\"Monkeys are red. Firefish are blue; Besra is a bird and so are you\")\n",
    "\n",
    "# we'll define this function since we'll use it a lot more below\n",
    "def print_spans_from_labelers(doc, labeling_functions):\n",
    "    annotators = [FunctionAnnotator(labeling_function) for labeling_function in labeling_functions]\n",
    "    aggregated_annotator = FunctionAnnotatorAggregator(annotators)\n",
    "\n",
    "    doc = aggregated_annotator(doc)\n",
    "\n",
    "    print(doc.spans)\n",
    "print_spans_from_labelers(doc, labeling_functions)\n"
   ],
   "outputs": [
    {
     "output_type": "stream",
     "name": "stdout",
     "text": [
      "[Span(position=6, label='BOVINE')]\n"
     ]
    }
   ],
   "metadata": {}
  },
  {
   "cell_type": "markdown",
   "source": [
    "What happened? It seems that only the last function was applied. Let's look at the `labeling_functions`"
   ],
   "metadata": {}
  },
  {
   "cell_type": "code",
   "execution_count": 19,
   "source": [
    "for labeling_function in labeling_functions:\n",
    "    print(labeling_function)"
   ],
   "outputs": [
    {
     "output_type": "stream",
     "name": "stdout",
     "text": [
      "<bound method LabelingCallable.labeling_function of <__main__.LabelingCallable object at 0x7fa6981669a0>>\n",
      "<bound method LabelingCallable.labeling_function of <__main__.LabelingCallable object at 0x7fa698166d30>>\n",
      "<bound method LabelingCallable.labeling_function of <__main__.LabelingCallable object at 0x7fa698166940>>\n"
     ]
    }
   ],
   "metadata": {}
  },
  {
   "cell_type": "markdown",
   "source": [
    "They point to the same memory address. This is because Python redefines functions in place. \n",
    "But this is not the only problem. Let's rewrite this with lambda functions. \n",
    "\n",
    "*Note* if you haven't worked with list comprehensions before: don't worry about it; think of the code below as a way to create a new function without replacing the existing function with the same name"
   ],
   "metadata": {}
  },
  {
   "cell_type": "code",
   "execution_count": 11,
   "source": [
    "labeling_functions = [\n",
    "                        lambda doc: \n",
    "                            ( # this is also a generator in Python; it's the same syntax as list comprehension\n",
    "                            # but we use round braces instead of square ones\n",
    "                                Span(position, label) \n",
    "                                    for position, word in enumerate(doc.tokens) \n",
    "                                    if word.startswith(strats_with)\n",
    "                            )\n",
    "                        for strats_with, label in heuristic_parameters\n",
    "                    ]\n",
    "\n",
    "for labeling_function in labeling_functions:\n",
    "    print(labeling_function)"
   ],
   "outputs": [
    {
     "output_type": "stream",
     "name": "stdout",
     "text": [
      "<function <listcomp>.<lambda> at 0x7fa69815f160>\n",
      "<function <listcomp>.<lambda> at 0x7fa69815f1f0>\n",
      "<function <listcomp>.<lambda> at 0x7fa69815f280>\n"
     ]
    }
   ],
   "metadata": {}
  },
  {
   "cell_type": "markdown",
   "source": [
    "But when we want to print the function the problem stays."
   ],
   "metadata": {}
  },
  {
   "cell_type": "code",
   "execution_count": 12,
   "source": [
    "print_spans_from_labelers(doc, labeling_functions)"
   ],
   "outputs": [
    {
     "output_type": "stream",
     "name": "stdout",
     "text": [
      "[Span(position=6, label='BIRD')]\n"
     ]
    }
   ],
   "metadata": {}
  },
  {
   "cell_type": "markdown",
   "source": [
    "This is because of scoping. The problem is that, since we didn't declare strats_with, label in the lambda body or parameters, the lambdas will always look in the scope immediately outside them and they will find the last values that `strats_with`, `label` had.\n",
    "If you come from other languages it might be strange to you, but Python doesn't create a new scope for the `for` body. Instead it uses the same local scope. This is why `strats_with, label = 'B', 'BOVINE'` in snippet [8](#problem_cell) produced snippet [9](#problem_cell_2) to display the label as 'BOVINE'"
   ],
   "metadata": {}
  },
  {
   "cell_type": "markdown",
   "source": [
    "\n",
    "\n",
    "\n",
    "But be not affraid! There is a solution:"
   ],
   "metadata": {}
  },
  {
   "cell_type": "code",
   "execution_count": 13,
   "source": [
    "def function_closure(strats_with, label):\n",
    "    local_strats_with, local_label = strats_with, label\n",
    "    def labeling_function(doc: Doc) -> Generator[Span, None, None]:\n",
    "        for position, word in enumerate(doc.tokens):\n",
    "            if word.startswith(local_strats_with):\n",
    "                yield Span(position, local_label)\n",
    "    return labeling_function\n",
    "\n",
    "labeling_functions = [function_closure(strats_with, label) for strats_with, label in heuristic_parameters]"
   ],
   "outputs": [],
   "metadata": {}
  },
  {
   "cell_type": "markdown",
   "source": [
    "Now, when we get the annotators things go as expected."
   ],
   "metadata": {}
  },
  {
   "cell_type": "code",
   "execution_count": 14,
   "source": [
    "print_spans_from_labelers(doc, labeling_functions)"
   ],
   "outputs": [
    {
     "output_type": "stream",
     "name": "stdout",
     "text": [
      "[Span(position=0, label='MAMMAL'), Span(position=3, label='FISH'), Span(position=6, label='BIRD')]\n"
     ]
    }
   ],
   "metadata": {}
  },
  {
   "cell_type": "markdown",
   "source": [
    "But why is this different from the last attempt? This time, by calling `function_closure` we are creating a local scope around the labeling function and put the `strats_with` and `label` variables in it. These variables are recreated every time we call `function_closure`. It also recreates `labeling_function` since functions are regular objects in Python and different calls can’t trample on one another’s local variables. \n",
    "\n",
    "A good mental model is to think of function values as containing both the code in their body and the environment in which they are created.*\n",
    "\n",
    "*lifted from [*Eloquent Javascript*](https://eloquentjavascript.net/03_functions.html) book"
   ],
   "metadata": {}
  },
  {
   "cell_type": "markdown",
   "source": [
    "Inspecting the functions will also confirm this: "
   ],
   "metadata": {}
  },
  {
   "cell_type": "code",
   "execution_count": 15,
   "source": [
    "print(repr(labeling_functions[0]))\n",
    "print(type(labeling_functions[0]))"
   ],
   "outputs": [
    {
     "output_type": "stream",
     "name": "stdout",
     "text": [
      "<function function_closure.<locals>.labeling_function at 0x7fa698152ca0>\n",
      "<class 'function'>\n"
     ]
    }
   ],
   "metadata": {}
  },
  {
   "cell_type": "markdown",
   "source": [
    "One improvement we can make is not using `local_strats_with`, `local_label`, since parameters are themselves local variables "
   ],
   "metadata": {}
  },
  {
   "cell_type": "code",
   "execution_count": 16,
   "source": [
    "def function_closure(strats_with, label):\n",
    "    def labeling_function(doc: Doc) -> Generator[Span, None, None]:\n",
    "        for position, word in enumerate(doc.tokens):\n",
    "            if word.startswith(strats_with):\n",
    "                yield Span(position, label)\n",
    "    return labeling_function\n",
    "\n",
    "labeling_functions = [function_closure(strats_with, label) for strats_with, label in heuristic_parameters]\n",
    "print_spans_from_labelers(doc, labeling_functions)"
   ],
   "outputs": [
    {
     "output_type": "stream",
     "name": "stdout",
     "text": [
      "[Span(position=0, label='MAMMAL'), Span(position=3, label='FISH'), Span(position=6, label='BIRD')]\n"
     ]
    }
   ],
   "metadata": {}
  },
  {
   "cell_type": "markdown",
   "source": [
    "Now compare it with how you'd implement a regular class:"
   ],
   "metadata": {}
  },
  {
   "cell_type": "code",
   "execution_count": 17,
   "source": [
    "class LabelingCallable:\n",
    "    def __init__(self, starts_with, label) -> None:\n",
    "        self.starts_with = starts_with\n",
    "        self.label = label\n",
    "\n",
    "    def __call__(self, doc) -> Generator[Span, None, None]:\n",
    "        for position, word in enumerate(doc.tokens):\n",
    "            if word.startswith(self.starts_with):\n",
    "                yield Span(position, self.label)\n",
    "\n",
    "labeling_functions = [LabelingCallable(strats_with, label) for strats_with, label in heuristic_parameters]\n",
    "print_spans_from_labelers(doc, labeling_functions)"
   ],
   "outputs": [
    {
     "output_type": "stream",
     "name": "stdout",
     "text": [
      "[Span(position=0, label='MAMMAL'), Span(position=3, label='FISH'), Span(position=6, label='BIRD')]\n"
     ]
    }
   ],
   "metadata": {}
  },
  {
   "cell_type": "markdown",
   "source": [
    "The object is used only because it can function as a regular function - something that a regular function is more fit to do. This also requires you to come up with a naming convention for this kind of classes. And it doesn't fit with the fact that `skweak` expects a function (as the code and docstrings imply), even if it masquerades as one."
   ],
   "metadata": {}
  },
  {
   "cell_type": "markdown",
   "source": [
    "You can also do something like this:"
   ],
   "metadata": {}
  },
  {
   "cell_type": "code",
   "execution_count": 18,
   "source": [
    "class LabelingCallable:\n",
    "    def __init__(self, starts_with, label) -> None:\n",
    "        self.starts_with = starts_with\n",
    "        self.label = label\n",
    "\n",
    "    def labeling_function(self, doc) -> Generator[Span, None, None]:\n",
    "        for position, word in enumerate(doc.tokens):\n",
    "            if word.startswith(self.starts_with):\n",
    "                yield Span(position, self.label)\n",
    "\n",
    "labeling_functions = [LabelingCallable(strats_with, label).labeling_function for strats_with, label in heuristic_parameters]\n",
    "print_spans_from_labelers(doc, labeling_functions)\n",
    "print(repr(labeling_functions[0]))\n",
    "print(type(labeling_functions[0]))"
   ],
   "outputs": [
    {
     "output_type": "stream",
     "name": "stdout",
     "text": [
      "[Span(position=0, label='MAMMAL'), Span(position=3, label='FISH'), Span(position=6, label='BIRD')]\n",
      "<bound method LabelingCallable.labeling_function of <__main__.LabelingCallable object at 0x7fa6981669a0>>\n",
      "<class 'method'>\n"
     ]
    }
   ],
   "metadata": {}
  },
  {
   "cell_type": "markdown",
   "source": [
    "Maybe this is something you'll eventually want but, for our intended purposes, this is basically a closure with extra steps. "
   ],
   "metadata": {}
  },
  {
   "cell_type": "markdown",
   "source": [
    "# Ending notes"
   ],
   "metadata": {}
  },
  {
   "cell_type": "markdown",
   "source": [
    "In this post we explored closures, a solution for providing data locality.\n",
    "We saw one usecase in which they can be helpful and are better suited than classes.\n",
    "\n",
    "If this is the kind of content you enjoy, let me know!"
   ],
   "metadata": {}
  }
 ],
 "metadata": {
  "orig_nbformat": 4,
  "language_info": {
   "name": "python",
   "version": "3.9.5",
   "mimetype": "text/x-python",
   "codemirror_mode": {
    "name": "ipython",
    "version": 3
   },
   "pygments_lexer": "ipython3",
   "nbconvert_exporter": "python",
   "file_extension": ".py"
  },
  "kernelspec": {
   "name": "python3",
   "display_name": "Python 3.9.5 64-bit ('3.9.5': pyenv)"
  },
  "interpreter": {
   "hash": "adf093301c14a63c6539f58cf0b8916c00ba44ee06fa6d5252f125346225c63b"
  }
 },
 "nbformat": 4,
 "nbformat_minor": 2
}